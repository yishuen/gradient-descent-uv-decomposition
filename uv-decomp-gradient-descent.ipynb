{
 "cells": [
  {
   "cell_type": "code",
   "execution_count": 2,
   "metadata": {},
   "outputs": [],
   "source": [
    "import numpy as np"
   ]
  },
  {
   "cell_type": "code",
   "execution_count": null,
   "metadata": {},
   "outputs": [],
   "source": []
  },
  {
   "cell_type": "code",
   "execution_count": null,
   "metadata": {},
   "outputs": [],
   "source": []
  },
  {
   "cell_type": "markdown",
   "metadata": {},
   "source": [
    "## Gradient Descent: Optimizing U-V Decomposition w RMSE"
   ]
  },
  {
   "cell_type": "code",
   "execution_count": 216,
   "metadata": {},
   "outputs": [],
   "source": [
    "utility = np.array([[5, 2, 4, 4, 3], [3, 1, 2, 4, 1], [2, 0, 3, 1, 4], [2, 5, 4, 3, 5], [4, 4, 5, 4, 0]])"
   ]
  },
  {
   "cell_type": "code",
   "execution_count": 8,
   "metadata": {},
   "outputs": [
    {
     "name": "stdout",
     "output_type": "stream",
     "text": [
      "[[5 2 4 4 3]\n",
      " [3 1 2 4 1]\n",
      " [2 0 3 1 4]\n",
      " [2 5 4 3 5]\n",
      " [4 4 5 4 0]]\n"
     ]
    }
   ],
   "source": [
    "print(utility)"
   ]
  },
  {
   "cell_type": "code",
   "execution_count": 14,
   "metadata": {},
   "outputs": [],
   "source": [
    "starting_u = np.ones((5, 2))\n",
    "starting_v = np.ones((2, 5))"
   ]
  },
  {
   "cell_type": "code",
   "execution_count": 27,
   "metadata": {},
   "outputs": [
    {
     "name": "stdout",
     "output_type": "stream",
     "text": [
      "[[1. 1.]\n",
      " [1. 1.]\n",
      " [1. 1.]\n",
      " [1. 1.]\n",
      " [1. 1.]] <-- U \n",
      "\n",
      "[[1. 1. 1. 1. 1.]\n",
      " [1. 1. 1. 1. 1.]] <-- V\n",
      "\n",
      "[[2. 2. 2. 2. 2.]\n",
      " [2. 2. 2. 2. 2.]\n",
      " [2. 2. 2. 2. 2.]\n",
      " [2. 2. 2. 2. 2.]\n",
      " [2. 2. 2. 2. 2.]] <-- U x V\n"
     ]
    }
   ],
   "source": [
    "print(starting_u, '<-- U', '\\n')\n",
    "print(starting_v, '<-- V' '\\n')\n",
    "print(np.matmul(starting_u, starting_v), '<-- U x V')"
   ]
  },
  {
   "cell_type": "code",
   "execution_count": 38,
   "metadata": {},
   "outputs": [],
   "source": [
    "one = np.matmul(starting_u, starting_v)"
   ]
  },
  {
   "cell_type": "code",
   "execution_count": 95,
   "metadata": {},
   "outputs": [],
   "source": [
    "def rmse(matrix1, matrix2):\n",
    "    zipped = zip(matrix1.reshape(-1), matrix2.reshape(-1)) \n",
    "    nonzero = list(filter(lambda x: x[0] != 0 or x[1] != 0, zipped)) # our RMSE is only calculated over rated items\n",
    "    squared_errors = [(x[0]-x[1])**2 for x in nonzero]\n",
    "    return (sum(squared_errors)/len(squared_errors))**0.5"
   ]
  },
  {
   "cell_type": "code",
   "execution_count": 129,
   "metadata": {},
   "outputs": [],
   "source": [
    "def get_changing_vector(utility, starting_u, starting_v, optimizing):\n",
    "    mat = np.matmul(starting_u, starting_v)\n",
    "    if optimizing[0] == 0:\n",
    "        # change row number optimizing[1]\n",
    "        arbitrary = mat[optimizing[1]]\n",
    "        u = utility[optimizing[1]]\n",
    "    else:\n",
    "        # change column number optimizing[2]\n",
    "        arbitrary = mat[:, optimizing[2]]\n",
    "        u = utility[:, optimizing[2]]\n",
    "    return arbitrary, u\n",
    "    "
   ]
  },
  {
   "cell_type": "code",
   "execution_count": 179,
   "metadata": {},
   "outputs": [
    {
     "data": {
      "text/plain": [
       "(array([2., 2., 2., 2., 2.]), array([5, 0, 4, 4, 3]))"
      ]
     },
     "execution_count": 179,
     "metadata": {},
     "output_type": "execute_result"
    }
   ],
   "source": [
    "get_changing_vector(utility, starting_u, starting_v, (0, 0, 0))"
   ]
  },
  {
   "cell_type": "code",
   "execution_count": 232,
   "metadata": {},
   "outputs": [],
   "source": [
    "from sympy.solvers import solve\n",
    "from sympy import *\n",
    "\n",
    "def optimize(utility, starting_u, starting_v, optimizing):\n",
    "    arbitrary, u = get_changing_vector(utility, starting_u, starting_v, optimizing)\n",
    "    x = Symbol('x')\n",
    "    row = (x, starting_u[optimizing[1], optimizing[2]])\n",
    "    col = [starting_v[:,i] for i in range(starting_v.shape[1])]\n",
    "    eq = [np.dot(row, b) for b in col]\n",
    "    eq2 = [(i[0]-i[1])**2 for i in zip(u, eq)]\n",
    "    eq3 = sum(eq2)\n",
    "    return solve(diff(eq3, x), x)[0]\n",
    "\n",
    "    "
   ]
  },
  {
   "cell_type": "code",
   "execution_count": 233,
   "metadata": {},
   "outputs": [
    {
     "data": {
      "text/plain": [
       "2.60000000000000"
      ]
     },
     "execution_count": 233,
     "metadata": {},
     "output_type": "execute_result"
    }
   ],
   "source": [
    "optimize(utility, starting_u, starting_v, (0, 0, 0))"
   ]
  },
  {
   "cell_type": "code",
   "execution_count": 132,
   "metadata": {},
   "outputs": [],
   "source": [
    "from sympy.solvers import solve\n",
    "from sympy import Symbol\n",
    "\n"
   ]
  },
  {
   "cell_type": "code",
   "execution_count": 137,
   "metadata": {},
   "outputs": [
    {
     "data": {
      "text/plain": [
       "(6*x + 6, [x + 1, 2*x + 2, 3*x + 3])"
      ]
     },
     "execution_count": 137,
     "metadata": {},
     "output_type": "execute_result"
    }
   ],
   "source": [
    "sum(eq), eq"
   ]
  },
  {
   "cell_type": "code",
   "execution_count": 245,
   "metadata": {},
   "outputs": [],
   "source": [
    "def optimal_value(utility, starting_u, starting_v, optimizing):\n",
    "    # choice = (0, 0, 0) means first element of first matrix\n",
    "    mat = np.matmul(starting_u, starting_v)\n",
    "    arbitrary, u = get_changing_vector(utility, starting_u, starting_v, optimizing)\n",
    "    print('Starting RMSE of Changing Values: ', rmse(arbitrary, u))\n",
    "    print('Starting Total RMSE: ', rmse(mat, utility))\n",
    "    \n",
    "    new_value = optimize(utility, starting_u, starting_v, optimizing)\n",
    "    print('Optimal Value: ', new_value)\n",
    "    starting_u[optimizing[1], optimizing[2]] = new_value\n",
    "    new_mat = np.matmul(starting_u, starting_v)\n",
    "    print(new_mat, '<-- updated matrix')\n",
    "\n",
    "    print('New Total RMSE: ', rmse(new_mat, utility))\n",
    "    \n",
    "    "
   ]
  },
  {
   "cell_type": "code",
   "execution_count": null,
   "metadata": {},
   "outputs": [],
   "source": []
  },
  {
   "cell_type": "code",
   "execution_count": 246,
   "metadata": {},
   "outputs": [
    {
     "name": "stdout",
     "output_type": "stream",
     "text": [
      "Starting RMSE of Changing Values:  1.8973665961010275\n",
      "Starting Total RMSE:  1.8220867158288598\n",
      "Optimal Value:  2.60000000000000\n",
      "[[3.6 3.6 3.6 3.6 3.6]\n",
      " [2.  2.  2.  2.  2. ]\n",
      " [2.  2.  2.  2.  2. ]\n",
      " [2.  2.  2.  2.  2. ]\n",
      " [2.  2.  2.  2.  2. ]] <-- updated matrix\n",
      "New Total RMSE:  1.675708805252273\n",
      "None\n"
     ]
    }
   ],
   "source": [
    "print(optimal_value(utility, starting_u, starting_v, (0, 0, 0)))"
   ]
  },
  {
   "cell_type": "code",
   "execution_count": 98,
   "metadata": {},
   "outputs": [
    {
     "data": {
      "text/plain": [
       "array([[5, 0, 4, 4, 3],\n",
       "       [3, 0, 2, 4, 1],\n",
       "       [2, 0, 3, 1, 4],\n",
       "       [2, 0, 4, 3, 5],\n",
       "       [4, 0, 5, 4, 0]])"
      ]
     },
     "execution_count": 98,
     "metadata": {},
     "output_type": "execute_result"
    }
   ],
   "source": [
    "utility"
   ]
  },
  {
   "cell_type": "code",
   "execution_count": 99,
   "metadata": {},
   "outputs": [],
   "source": [
    "mat = np.matmul(starting_u, starting_v)"
   ]
  },
  {
   "cell_type": "code",
   "execution_count": 101,
   "metadata": {},
   "outputs": [
    {
     "data": {
      "text/plain": [
       "1.8439088914585775"
      ]
     },
     "execution_count": 101,
     "metadata": {},
     "output_type": "execute_result"
    }
   ],
   "source": [
    "rmse(utility, mat)"
   ]
  },
  {
   "cell_type": "code",
   "execution_count": 75,
   "metadata": {},
   "outputs": [
    {
     "data": {
      "text/plain": [
       "array([2, 1, 0, 5, 4])"
      ]
     },
     "execution_count": 75,
     "metadata": {},
     "output_type": "execute_result"
    }
   ],
   "source": [
    "utility[:, 1]"
   ]
  },
  {
   "cell_type": "code",
   "execution_count": 74,
   "metadata": {},
   "outputs": [
    {
     "data": {
      "text/plain": [
       "2"
      ]
     },
     "execution_count": 74,
     "metadata": {},
     "output_type": "execute_result"
    }
   ],
   "source": [
    "utility[0, 1]"
   ]
  },
  {
   "cell_type": "code",
   "execution_count": 77,
   "metadata": {},
   "outputs": [
    {
     "data": {
      "text/plain": [
       "array([[5, 2, 4, 4, 3],\n",
       "       [3, 1, 2, 4, 1],\n",
       "       [2, 0, 3, 1, 4],\n",
       "       [2, 5, 4, 3, 5],\n",
       "       [4, 4, 5, 4, 0]])"
      ]
     },
     "execution_count": 77,
     "metadata": {},
     "output_type": "execute_result"
    }
   ],
   "source": [
    "changed = utility\n",
    "changed"
   ]
  },
  {
   "cell_type": "code",
   "execution_count": 78,
   "metadata": {},
   "outputs": [],
   "source": [
    "changed[:, 1] = [0, 0, 0, 0, 0]"
   ]
  },
  {
   "cell_type": "code",
   "execution_count": 79,
   "metadata": {},
   "outputs": [
    {
     "data": {
      "text/plain": [
       "array([[5, 0, 4, 4, 3],\n",
       "       [3, 0, 2, 4, 1],\n",
       "       [2, 0, 3, 1, 4],\n",
       "       [2, 0, 4, 3, 5],\n",
       "       [4, 0, 5, 4, 0]])"
      ]
     },
     "execution_count": 79,
     "metadata": {},
     "output_type": "execute_result"
    }
   ],
   "source": [
    "changed"
   ]
  },
  {
   "cell_type": "code",
   "execution_count": null,
   "metadata": {},
   "outputs": [],
   "source": []
  },
  {
   "cell_type": "markdown",
   "metadata": {},
   "source": [
    "# Resources\n",
    "- The structure of this is based on Chapter 9 of **Mining of Massive Datasets**: http://infolab.stanford.edu/~ullman/mmds/book.pdf\n",
    "- Libraries for recommendation systems: \n",
    "    - Surprise: https://surprise.readthedocs.io/en/stable/index.html\n",
    "    - LightFM: https://lyst.github.io/lightfm/docs/index.html"
   ]
  }
 ],
 "metadata": {
  "kernelspec": {
   "display_name": "Python 3",
   "language": "python",
   "name": "python3"
  },
  "language_info": {
   "codemirror_mode": {
    "name": "ipython",
    "version": 3
   },
   "file_extension": ".py",
   "mimetype": "text/x-python",
   "name": "python",
   "nbconvert_exporter": "python",
   "pygments_lexer": "ipython3",
   "version": "3.7.2"
  }
 },
 "nbformat": 4,
 "nbformat_minor": 2
}
